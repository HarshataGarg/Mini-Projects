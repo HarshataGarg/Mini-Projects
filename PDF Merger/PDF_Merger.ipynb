{
  "nbformat": 4,
  "nbformat_minor": 0,
  "metadata": {
    "colab": {
      "provenance": [],
      "include_colab_link": true
    },
    "kernelspec": {
      "name": "python3",
      "display_name": "Python 3"
    },
    "language_info": {
      "name": "python"
    }
  },
  "cells": [
    {
      "cell_type": "markdown",
      "metadata": {
        "id": "view-in-github",
        "colab_type": "text"
      },
      "source": [
        "<a href=\"https://colab.research.google.com/github/HarshataGarg/Mini-Projects/blob/main/PDF%20Merger/PDF_Merger.ipynb\" target=\"_parent\"><img src=\"https://colab.research.google.com/assets/colab-badge.svg\" alt=\"Open In Colab\"/></a>"
      ]
    },
    {
      "cell_type": "code",
      "source": [
        "!pip install PyPDF2"
      ],
      "metadata": {
        "colab": {
          "base_uri": "https://localhost:8080/"
        },
        "id": "SKA48NjvZgPh",
        "outputId": "06d2be90-fdd3-4630-c157-7fd4a6915236"
      },
      "execution_count": 6,
      "outputs": [
        {
          "output_type": "stream",
          "name": "stdout",
          "text": [
            "Requirement already satisfied: PyPDF2 in /usr/local/lib/python3.11/dist-packages (3.0.1)\n"
          ]
        }
      ]
    },
    {
      "cell_type": "code",
      "execution_count": 10,
      "metadata": {
        "id": "i4H7AXnIZdnX"
      },
      "outputs": [],
      "source": [
        "import PyPDF2\n",
        "\n",
        "def merge_pdfs(input_pdfs, output_pdf):\n",
        "    pdf_writer = PyPDF2.PdfWriter()\n",
        "\n",
        "    for input_pdf in input_pdfs:\n",
        "        with open(input_pdf, 'rb') as pdf_file:\n",
        "            pdf_reader = PyPDF2.PdfReader(pdf_file)\n",
        "            num_pages = len(pdf_reader.pages)\n",
        "\n",
        "            for page in range(num_pages):\n",
        "                pdf_writer.add_page(pdf_reader.pages[page])\n",
        "\n",
        "    with open(output_pdf, 'wb') as output_file:\n",
        "        pdf_writer.write(output_file)\n",
        "\n",
        "# Example usage:\n",
        "input_pdfs = [\"/content/Part1.pdf\", \"/content/Part2.pdf\"]\n",
        "output_pdf = \"/content/output.pdf\"\n",
        "merge_pdfs(input_pdfs, output_pdf)\n"
      ]
    }
  ]
}