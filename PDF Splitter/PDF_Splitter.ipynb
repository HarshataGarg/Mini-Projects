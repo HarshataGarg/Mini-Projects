{
  "nbformat": 4,
  "nbformat_minor": 0,
  "metadata": {
    "colab": {
      "provenance": [],
      "include_colab_link": true
    },
    "kernelspec": {
      "name": "python3",
      "display_name": "Python 3"
    },
    "language_info": {
      "name": "python"
    }
  },
  "cells": [
    {
      "cell_type": "markdown",
      "metadata": {
        "id": "view-in-github",
        "colab_type": "text"
      },
      "source": [
        "<a href=\"https://colab.research.google.com/github/HarshataGarg/Mini-Projects/blob/main/PDF%20Splitter/PDF_Splitter.ipynb\" target=\"_parent\"><img src=\"https://colab.research.google.com/assets/colab-badge.svg\" alt=\"Open In Colab\"/></a>"
      ]
    },
    {
      "cell_type": "code",
      "execution_count": 2,
      "metadata": {
        "colab": {
          "base_uri": "https://localhost:8080/"
        },
        "id": "gtpWXzgUTf87",
        "outputId": "93dab937-0cf7-4c64-f51d-1f804b89da5a"
      },
      "outputs": [
        {
          "output_type": "stream",
          "name": "stdout",
          "text": [
            "Collecting PyPDF2\n",
            "  Downloading pypdf2-3.0.1-py3-none-any.whl.metadata (6.8 kB)\n",
            "Downloading pypdf2-3.0.1-py3-none-any.whl (232 kB)\n",
            "\u001b[?25l   \u001b[90m━━━━━━━━━━━━━━━━━━━━━━━━━━━━━━━━━━━━━━━━\u001b[0m \u001b[32m0.0/232.6 kB\u001b[0m \u001b[31m?\u001b[0m eta \u001b[36m-:--:--\u001b[0m\r\u001b[2K   \u001b[90m━━━━━━━━━━━━━━━━━━━━━━━━━━━━━━━━━━━━━━━━\u001b[0m \u001b[32m232.6/232.6 kB\u001b[0m \u001b[31m7.9 MB/s\u001b[0m eta \u001b[36m0:00:00\u001b[0m\n",
            "\u001b[?25hInstalling collected packages: PyPDF2\n",
            "Successfully installed PyPDF2-3.0.1\n"
          ]
        }
      ],
      "source": [
        "!pip install PyPDF2"
      ]
    },
    {
      "cell_type": "code",
      "source": [
        "import os\n",
        "from PyPDF2 import PdfReader, PdfWriter\n",
        "from PyPDF2.errors import EmptyFileError\n",
        "\n",
        "def split_pdf(input_pdf, output_dir, split_page):\n",
        "    # Check file existence and size\n",
        "    if not os.path.exists(input_pdf):\n",
        "        print(f\"Error: File '{input_pdf}' not found.\")\n",
        "        return\n",
        "\n",
        "    if os.path.getsize(input_pdf) == 0:\n",
        "        print(f\"Error: File '{input_pdf}' is empty.\")\n",
        "        return\n",
        "\n",
        "    if not os.path.exists(output_dir):\n",
        "        os.makedirs(output_dir)\n",
        "\n",
        "    try:\n",
        "        with open(input_pdf, \"rb\") as file:\n",
        "            pdf = PdfReader(file)\n",
        "            total_pages = len(pdf.pages)\n",
        "\n",
        "            if split_page < 1 or split_page >= total_pages:\n",
        "                raise ValueError(f\"Split page number must be between 1 and {total_pages - 1}.\")\n",
        "\n",
        "            part1_writer = PdfWriter()\n",
        "            part2_writer = PdfWriter()\n",
        "\n",
        "            for page_num in range(total_pages):\n",
        "                if page_num < split_page:\n",
        "                    part1_writer.add_page(pdf.pages[page_num])\n",
        "                else:\n",
        "                    part2_writer.add_page(pdf.pages[page_num])\n",
        "\n",
        "            part1_filename = os.path.join(output_dir, 'part1.pdf')\n",
        "            part2_filename = os.path.join(output_dir, 'part2.pdf')\n",
        "\n",
        "            with open(part1_filename, 'wb') as part1_pdf:\n",
        "                part1_writer.write(part1_pdf)\n",
        "\n",
        "            with open(part2_filename, 'wb') as part2_pdf:\n",
        "                part2_writer.write(part2_pdf)\n",
        "\n",
        "            print(f'✅ Created: {part1_filename}')\n",
        "            print(f'✅ Created: {part2_filename}')\n",
        "\n",
        "    except EmptyFileError:\n",
        "        print(\"Error: Cannot read an empty file.\")\n",
        "\n",
        "if __name__ == \"__main__\":\n",
        "    input_pdf = '/content/Research.pdf'  # Make sure this file exists and is not empty\n",
        "\n",
        "    # Show available files in /content (if you're on Google Colab)\n",
        "    print(\"Available files in /content:\")\n",
        "    print(os.listdir('/content'))\n",
        "\n",
        "    output_dir = '/content/output'\n",
        "    split_page = int(input(\"Enter the page number where you want to split the PDF: \"))\n",
        "\n",
        "    split_pdf(input_pdf, output_dir, split_page)\n"
      ],
      "metadata": {
        "colab": {
          "base_uri": "https://localhost:8080/"
        },
        "id": "GBkQijI1Tjum",
        "outputId": "a0239f55-7f2e-4781-95f8-8bb69deab475"
      },
      "execution_count": 9,
      "outputs": [
        {
          "output_type": "stream",
          "name": "stdout",
          "text": [
            "Available files in /content:\n",
            "['.config', 'Research.pdf', '.ipynb_checkpoints', 'sample_data']\n",
            "Enter the page number where you want to split the PDF: 3\n",
            "✅ Created: /content/output/part1.pdf\n",
            "✅ Created: /content/output/part2.pdf\n"
          ]
        }
      ]
    },
    {
      "cell_type": "markdown",
      "source": [
        "H.W: Split every single page of the pdf and save into new pdf."
      ],
      "metadata": {
        "id": "45nZ9C-6WFNq"
      }
    }
  ]
}